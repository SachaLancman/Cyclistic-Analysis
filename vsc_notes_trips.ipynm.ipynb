{
 "cells": [
  {
   "attachments": {},
   "cell_type": "markdown",
   "metadata": {},
   "source": [
    "* 02/03/2023\n",
    "* Cyclistic data analysis\n",
    "* Sacha Lancman\n",
    "\n",
    "## Checking, cleaning and preparing the data:\n",
    "\n",
    "\n",
    "\n",
    "* Files from month 1 through 12 loaded \n",
    "\n",
    "* The 12 tables have been turned into 1 table (aggregate the data): trips_1_12\n",
    "\n",
    "* Kept the most important columns to solve the problem\n",
    "\n",
    "* Ordered by 'started_at' -- date started\n"
   ]
  },
  {
   "cell_type": "code",
   "execution_count": null,
   "metadata": {
    "vscode": {
     "languageId": "sql"
    }
   },
   "outputs": [],
   "source": [
    "SELECT started_at, ended_at, start_lat, start_lng, end_lat, end_lng, member_casual , rideable_type \n",
    "FROM `linear-potion-369716.tripdata01.1`\n",
    "UNION ALL\n",
    "SELECT started_at, ended_at, start_lat, start_lng, end_lat, end_lng, member_casual , rideable_type \n",
    "FROM `linear-potion-369716.tripdata01.2`\n",
    "UNION ALL\n",
    "SELECT started_at, ended_at, start_lat, start_lng, end_lat, end_lng, member_casual , rideable_type \n",
    "FROM `linear-potion-369716.tripdata01.3`\n",
    "UNION ALL\n",
    "SELECT started_at, ended_at, start_lat, start_lng, end_lat, end_lng, member_casual , rideable_type \n",
    "FROM `linear-potion-369716.tripdata01.4`\n",
    "UNION ALL\n",
    "SELECT started_at, ended_at, start_lat, start_lng, end_lat, end_lng, member_casual , rideable_type \n",
    "FROM `linear-potion-369716.tripdata01.5`\n",
    "UNION ALL\n",
    "SELECT started_at, ended_at, start_lat, start_lng, end_lat, end_lng, member_casual , rideable_type \n",
    "FROM `linear-potion-369716.tripdata01.6`\n",
    "UNION ALL\n",
    "SELECT started_at, ended_at, start_lat, start_lng, end_lat, end_lng, member_casual , rideable_type \n",
    "FROM `linear-potion-369716.tripdata01.7`\n",
    "UNION ALL\n",
    "SELECT started_at, ended_at, start_lat, start_lng, end_lat, end_lng, member_casual , rideable_type \n",
    "FROM `linear-potion-369716.tripdata01.8`\n",
    "UNION ALL\n",
    "SELECT started_at, ended_at, start_lat, start_lng, end_lat, end_lng, member_casual , rideable_type \n",
    "FROM `linear-potion-369716.tripdata01.9`\n",
    "UNION ALL\n",
    "SELECT started_at, ended_at, start_lat, start_lng, end_lat, end_lng, member_casual , rideable_type \n",
    "FROM `linear-potion-369716.tripdata01.10`\n",
    "UNION ALL\n",
    "SELECT started_at, ended_at, start_lat, start_lng, end_lat, end_lng, member_casual , rideable_type \n",
    "FROM `linear-potion-369716.tripdata01.11`\n",
    "UNION ALL\n",
    "SELECT started_at, ended_at, start_lat, start_lng, end_lat, end_lng, member_casual , rideable_type \n",
    "FROM `linear-potion-369716.tripdata01.12`\n",
    "ORDER BY started_at\n"
   ]
  },
  {
   "attachments": {},
   "cell_type": "markdown",
   "metadata": {},
   "source": [
    "* Check for blanks: the results: 5858 (out of more than 5 million) end_lng and end_lat are NULL.\n"
   ]
  },
  {
   "cell_type": "code",
   "execution_count": null,
   "metadata": {
    "vscode": {
     "languageId": "sql"
    }
   },
   "outputs": [],
   "source": [
    "SELECT * \n",
    "FROM `linear-potion-369716.tripdata01.trips_1_12` \n",
    "WHERE member_casual IS NULL \n",
    "OR started_at IS NULL\n",
    "OR ended_at IS NULL\n",
    "OR rideable_type IS NULL\n",
    "OR start_lat IS NULL \n",
    "OR start_lng IS NULL\n",
    "OR end_lat IS NULL\n",
    "OR end_lng IS NULL\n"
   ]
  },
  {
   "attachments": {},
   "cell_type": "markdown",
   "metadata": {},
   "source": [
    "* Check the longitudes and latitudes for outliers: the results: 1 outlier, but might not be a mistake.\n"
   ]
  },
  {
   "cell_type": "code",
   "execution_count": null,
   "metadata": {
    "vscode": {
     "languageId": "sql"
    }
   },
   "outputs": [],
   "source": [
    "SELECT start_lat, start_lng, end_lat, end_lng \n",
    "FROM `linear-potion-369716.tripdata01.new_trips_done`  \n",
    "ORDER BY start_lat desc \n",
    "LIMIT 100\n",
    "\n",
    "SELECT start_lat, start_lng, end_lat, end_lng \n",
    "FROM `linear-potion-369716.tripdata01.new_trips_done`  \n",
    "ORDER BY start_lat  \n",
    "LIMIT 100\n",
    "\n",
    "SELECT start_lat, start_lng, end_lat, end_lng \n",
    "FROM `linear-potion-369716.tripdata01.new_trips_done`  \n",
    "ORDER BY start_lng desc \n",
    "LIMIT 100\n",
    "\n",
    "SELECT start_lat, start_lng, end_lat, end_lng \n",
    "FROM `linear-potion-369716.tripdata01.new_trips_done`  \n",
    "ORDER BY start_lng \n",
    "LIMIT 100\n",
    "\n",
    "SELECT start_lat, start_lng, end_lat, end_lng \n",
    "FROM `linear-potion-369716.tripdata01.new_trips_done`  \n",
    "ORDER BY end_lat desc \n",
    "LIMIT 100\n",
    "\n",
    "SELECT start_lat, start_lng, end_lat, end_lng \n",
    "FROM `linear-potion-369716.tripdata01.new_trips_done`  \n",
    "ORDER BY end_lat \n",
    "LIMIT 100\n",
    "\n",
    "SELECT start_lat, start_lng, end_lat, end_lng \n",
    "FROM `linear-potion-369716.tripdata01.new_trips_done`  \n",
    "ORDER BY end_lng desc \n",
    "LIMIT 100\n",
    "\n",
    "SELECT start_lat, start_lng, end_lat, end_lng \n",
    "FROM `linear-potion-369716.tripdata01.new_trips_done`  \n",
    "ORDER BY end_lng\n",
    "LIMIT 100\n"
   ]
  },
  {
   "attachments": {},
   "cell_type": "markdown",
   "metadata": {
    "vscode": {
     "languageId": "sql"
    }
   },
   "source": [
    "* Check for misspellings:"
   ]
  },
  {
   "cell_type": "code",
   "execution_count": null,
   "metadata": {
    "vscode": {
     "languageId": "sql"
    }
   },
   "outputs": [],
   "source": [
    "SELECT DISTINCT member_casual \n",
    "FROM `linear-potion-369716.tripdata01.trips_1_12` \n",
    "\n",
    "SELECT DISTINCT rideable_type \n",
    "FROM `linear-potion-369716.tripdata01.trips_1_12` "
   ]
  },
  {
   "attachments": {},
   "cell_type": "markdown",
   "metadata": {},
   "source": [
    "* Check the dates, latitudes and longitudes:"
   ]
  },
  {
   "cell_type": "code",
   "execution_count": null,
   "metadata": {
    "vscode": {
     "languageId": "sql"
    }
   },
   "outputs": [],
   "source": [
    "SELECT MIN(started_at), \n",
    "       MIN(ended_at), \n",
    "       MAX(started_at), \n",
    "       MAX(ended_at),\n",
    "       MIN(start_lat), \n",
    "       MIN(end_lat), \n",
    "       MAX(start_lng), \n",
    "       MAX(end_lng)\n",
    "FROM `linear-potion-369716.tripdata01.trips_1_12` "
   ]
  },
  {
   "attachments": {},
   "cell_type": "markdown",
   "metadata": {},
   "source": [
    "* Check the type the data in each of the different columns:\n",
    "\n",
    "In the preview section of Bigquery.\n",
    "\n",
    "\n",
    "\n",
    "\n",
    "\n",
    "* Add a column with the ride lentgh in minute\n",
    "* Add a column with the hour of the day\n",
    "* Add a column with the Day of the week\n",
    "* Add a column with the week of the year \n",
    "* Add a column with the Month of the year:"
   ]
  },
  {
   "cell_type": "code",
   "execution_count": null,
   "metadata": {
    "vscode": {
     "languageId": "sql"
    }
   },
   "outputs": [],
   "source": [
    "SELECT *, \n",
    "timestamp_diff(ended_at, started_at, minute) AS ride_length_min, \n",
    "extract(HOUR from started_at) AS hour,\n",
    "extract(DAYOFWEEK from started_at) AS day,\n",
    "extract(WEEK from started_at) AS week,\n",
    "extract(MONTH from started_at) AS month\n",
    "FROM `linear-potion-369716.tripdata01.new_trips_v1` \n",
    "ORDER BY started_at\n"
   ]
  },
  {
   "attachments": {},
   "cell_type": "markdown",
   "metadata": {},
   "source": [
    "* Final table info:\n",
    "\n",
    "* Number of rows 5,667,717\n",
    "* Total logical bytes 597.06 MB\n",
    "\n",
    "1. started_at\t      TIMESTAMP\t\t\t\t\n",
    "2. ended_at\t          TIMESTAMP\t \t\t\t               \n",
    "3. start_lat\t      FLOAT\t \t\t\t\n",
    "4. start_lng\t      FLOAT\t  \t\t\n",
    "5. end_lat\t          FLOAT\t \t\t\t\n",
    "6. end_lng\t          FLOAT\t \t\t\t\n",
    "7. member_casual\t  STRING\t \t\t\t\n",
    "8. rideable_type\t  STRING\t \t\t\t\n",
    "9. ride_length_min\t  INTEGER\t \t\t\t\n",
    "10. hour\t          INTEGER\t \t\t\t\n",
    "11. day\t              INTEGER\t \t\t\t\n",
    "12. week\t          INTEGER\t \t\t\t\n",
    "13. month\t          INTEGER"
   ]
  },
  {
   "attachments": {},
   "cell_type": "markdown",
   "metadata": {},
   "source": [
    "## Analysis and Viz:\n",
    "\n",
    "\n",
    "\n",
    "* Question to answer: \n",
    "\n",
    "How do annual members and casual riders use Cyclistic bikes differently?\n",
    "\n",
    "\n",
    "\n",
    "\n",
    "\n",
    "* Anaysis and viz are done on Tableau, here are the different viz:\n",
    "\n",
    "1. Bar chart, x = hour, y = count trips, color = member_casual\n",
    "\n",
    "2. Double bar chart, x = day and x = member_casual, y = count trips, color = member_casual\n",
    "\n",
    "3. Double bar chart, x = month and x = member_casual, y = count trips, color = member_casual\n",
    "\n",
    "4. Horizontal bar chart,  x = average ride_length, y = hours, color = member_casual\n",
    "\n",
    "5. Double bar chart, x = day and x = member_casual, y = average ride_length, color = member_casual\n",
    "\n",
    "6. Double bar chart, x = month and x = member_casual, y = average ride_length, color = member_casual\n",
    "\n",
    "7. Double bar chart, x = rideable_type and x = member_casual, y = count trips, color = member_casual\n",
    "\n",
    "8. Double bar chart, x = rideable_type and x = member_casual, y = average ride_length, color = member_casual\n",
    "\n",
    "9. Highlighted table, x = month, y = hour and y = member_casual (makes a table for each), color = count trips\n",
    "\n",
    "10. Highlighted table, x = hour, y = day  and y = member_casual (makes a table for each), color = count trips\n",
    "\n",
    "11. Highlighted table, x = month, y = day and y = member_casual (makes a table for each), color = count trips\n",
    "\n",
    "12. Heat map, x = start_lat, y = start_lng and y = member_casual (makes a table for each), color = count trips\n",
    "\n",
    "13. Heat map, x = end_lat, y = end_lmg and y = member_casual (makes a table for each), color = count trips\n",
    "\n",
    "\n",
    "* #3 can be compared with the chart \"Chicago Temperature History 2022\", \"Daily Precipitation in 2022 in Chicago\",\n",
    "\"Snow Depth in 2022 in Chicago\" from © WeatherSpark.com.\n",
    "\n",
    "* #9 can be compared with the chart \"Hourly Temperature in 2022 in Chicago\" from © WeatherSpark.com.\n"
   ]
  },
  {
   "attachments": {},
   "cell_type": "markdown",
   "metadata": {},
   "source": [
    "### Observations: \n",
    "\n",
    "\n",
    "1. Viz #1: \n",
    "\n",
    "The busiest hour of the day is 5pm.\n",
    "Between 5am and 9am, and between 4pm and 6pm, there are a lot more trips started by annual members\n",
    "than trips started by casual riders. This can be explained by annual members going to work on a bike.\n",
    "The number of trips started by casual riders is larger only from 11pm to 3am.\n",
    "\n",
    "\n",
    "2. Viz #2:\n",
    "\n",
    "Annual members start more trips during the weekdays whereas casual rides start more trips during the weekend.\n",
    "This can also be explained by annual members going to work by bike. Annual members start as many trips as\n",
    "the casual riders during the weekend, but during the weekdays, annual members start 1.5x to 2x more trips than \n",
    "the casual riders.\n",
    "\n",
    "\n",
    "3. Viz #3.\n",
    "\n",
    "The busiest month are June, July, August. Next comes May, September and October. During the Summer, \n",
    "casual rides start close to as many trips as the annual members. But the colder it gets, the lower \n",
    "the users. Annual members as a better retention ratio: If we compare July and January, the number of trips started \n",
    "by casual member is 20x less. In comparison, taking the same 2 month, the number of trips started by \n",
    "annual members is only 5x less. I see a negative correlation with snow falls and positive correlation\n",
    "with the temperature. No correlation with the precipitations.\n",
    "\n",
    "\n",
    "4. Viz #4, #5 and #6:\n",
    "\n",
    "No matter what time, day or month it is, annual members will have their average ride length being between\n",
    "12 and 13 minutes. On the other hand, the average ride length can go from 19 to 41 minutes. On average, \n",
    "their trips is 2 to 3 times longer than annual members' trips.\n",
    "\n",
    "\n",
    "5. Viz #7 and #8:\n",
    "\n",
    "Casual riders have a slight preference for electric bikes compared to classic bike. They use 5 to 6 times\n",
    "less the docked bikes, but when they use it, it is for an average of 2 hours (120 minutes). Annual members \n",
    "do not use docked bikes, and have no preference between the classic bikes and the electric bikes. They do \n",
    "spend a little less times on electric bikes, probably because it is faster than the classic bike.\n",
    "\n",
    "\n",
    "6. Viz #9:\n",
    "\n",
    "Mixes the viz #1 and #3 together, and it is very easy to see the correlation with the temperatures.\n",
    "\n",
    "\n",
    "7. Viz: #10\n",
    "\n",
    "Mixes the viz #1 and #2 together. Same conclusions.\n",
    "\n",
    "\n",
    "8. Viz #11:\n",
    "\n",
    "Mixes the viz #2 and #3 together. Same conclusions.\n",
    "\n",
    "\n",
    "9. Viz #12 and #13:\n",
    "\n",
    "No differences worth noticing between annual members and casual riders. The further you move away from \n",
    "Chicago, the less trips are started and ended. It could be because suburbs are a lot less bike friendly \n",
    "than cities in general. \n"
   ]
  },
  {
   "cell_type": "markdown",
   "metadata": {},
   "source": []
  }
 ],
 "metadata": {
  "language_info": {
   "name": "python"
  },
  "orig_nbformat": 4
 },
 "nbformat": 4,
 "nbformat_minor": 2
}
